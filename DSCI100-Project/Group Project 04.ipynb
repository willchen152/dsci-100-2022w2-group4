{
 "cells": [
  {
   "cell_type": "markdown",
   "id": "8830d51a-b005-434f-92b2-17a4dfec2fef",
   "metadata": {},
   "source": [
    "# <strong> Using age, blood pressure, cholestrol level, and heart rate to classify heart disease patients in Cleveland. </strong>\n",
    "\n",
    "\n",
    "### Group 04 - Arshia Singla, Naufal Prasojo, Henry Shi, William Chen\n",
    "\n",
    "\n",
    "Heart disease, also known as cardiovascular disease, is a broad term encompassing a variety of conditions affecting the heart (such as heart failure and pulmonary heart disease) and blood vessels (such as coronary artery disease and aortic aneurysm). \n",
    "\n",
    "It remains a leading cause of morbidity and mortality worldwide, accounting for a significant proportion of deaths each year. Understanding heart disease and its risk factors is essential due to its widespread prevalence and profound impact on public health. \n",
    "\n",
    "By exploring and analyzing the dataset, we can identify patterns, trends, and correlations, which can inform evidence-based practices, and policies aimed at reducing the global issue of heart disease and improving patient outcomes. Furthermore, investigating the heart disease datasets can facilitate the development of predictive models, risk assessment tools, and personalized healthcare approaches. Overall, this exploration is crucial for enhancing our understanding of this complex condition and implementing effective strategies to prevent, diagnose, and manage it. \n",
    "\n",
    "The goal of this project is to use the risk factors of heart disease to classify patients based on the possibility to have a heart disease.\n",
    "\n",
    "The question that we will be trying to answer is: <strong> Is a new patient likely to have a heart disease based on their age, blood pressure, cholesterol level, and maximum heart rate? </strong>"
   ]
  },
  {
   "cell_type": "markdown",
   "id": "1b35b0d8-6eff-4a8d-8598-c88dd2eb56aa",
   "metadata": {},
   "source": [
    "## Dataset Description\n",
    "\n",
    "We will be using the Heart Disease dataset from the Cleveland database. It is a multivariate dataset. \n",
    "This database contains 76 attributes, but all published experiments refer to using a subset of 14 of them.  In particular, the Cleveland database is the only one that has been used by ML researchers to date.  The \"goal\" field refers to the presence of heart disease in the patient.  It is integer valued from 0 (no presence) to 4. Experiments with the Cleveland database have concentrated on simply attempting to distinguish presence (values 1,2,3,4) from absence (value 0).  \n",
    "   \n",
    "The names and social security numbers of the patients were recently removed from the database, replaced with dummy values."
   ]
  },
  {
   "cell_type": "markdown",
   "id": "66e50ebf-baf5-4547-8da3-b0fa1c4d326f",
   "metadata": {},
   "source": [
    "### Methods\n",
    "\n",
    "We are using data from the file processed.cleveland.data from the heart disease database to predict the likeliness of a patient from Cleveland having heart disease. The columns that we are using are as follows:\n",
    "\n",
    "1.  <strong> age: </strong> age in years\n",
    "2.  <strong> sex: </strong> sex (1 = male; 0 = female)\n",
    "3.  <strong> cp: </strong> chest pain type\n",
    "    - Value 1: typical angina;\n",
    "    - Value 2: atypical angina;\n",
    "    - Value 3: non-anginal pain;\n",
    "    - Value 4: asymptomatic)\n",
    "4.  <strong> trestbps: </strong> resting blood pressure (in mm Hg on admission to the hospital)\n",
    "5.  <strong> chol: </strong> serum cholestrol in mg/dl\n",
    "6.  <strong> fbs: </strong> (fasting blood sugar > 120 mg/dl) (1 = true; 0 = false)\n",
    "7.  <strong> restecg: </strong> resting electrocardiographic results \n",
    "    - Value 0: normal;\n",
    "    - Value 1: having ST-T wave abnormality;\n",
    "    - Value 2: showing probable or definite                                                                                    left ventricular hypertrophy                                                                                    by Estes' criteria\n",
    "8.  <strong> thalach: </strong> maximum heart rate achieved\n",
    "9.  <strong> exang: </strong> exercise induced angina (1 = yes; 0 = no)\n",
    "10. <strong> oldpeak: </strong> ST depression induced by exercise relative to rest \n",
    "11. <strong> slope: </strong> the slope of the peak exercise ST segment\n",
    "    - Value 1: upsloping;\n",
    "    - Value 2: flat;\n",
    "    - Value 3: downsloping\n",
    "12. <strong> ca: </strong> number of major vessels (0 - 3) colored by fluoroscopy\n",
    "13. <strong> thal: </strong> 3 = normal; 6 = fixed defect; 7 = reversible defect\n",
    "14. <strong> num: </strong> diagnosis of heart disease (1,2,3,4 = presence, 0 = no presence)\n",
    "\n",
    "\n",
    "Each column in the dataset has numeric values and it has 303 rows. The missing data is represented with the string \"?\".\n",
    "\n",
    "To clean (or tidy) the data, we changed all the \"?\" values to NA. Since, the <strong> num </strong> column uses integers to indicate the presence (1,2,3,4) or absence (0) of the heart disease in a patient, and we want to determine whether or not a patient has heart disease, we added a new boolean column <strong> diagno </strong> to represent the diagnosis as TRUE or FALSE. \n",
    "\n",
    "We then used the initial_split() function to split our tidied dataframe into 75% training data and 25% testing data while stratifying for <strong> diagno</strong>. However, for analysis, we only used the training set. \n",
    "\n",
    "We chose 4 predictor variables based on the risk factors of heart disease which are:\n",
    "\n",
    "- There are many risk factors for heart diseases, with <strong> age </strong>being the most important one (Francis DP et al., 2013).\n",
    "\n",
    "- High levels of LDL (\"bad\") <strong>cholestrol</strong> can accumulate in the walls of arteries, forming plaque which narrows the arteries and restricts blood flow to the heart muscle. This increases the risk of heart attack, and coronary artery disease. \n",
    "\n",
    "- Abnormalities in <strong>heart rate</strong> can indicate underlying cardiovascular issues and risks for individuals with heart disease. \n",
    "\n",
    "- <strong>High blood pressure</strong> (or hypertension), increases the risk of heart disease by damaging arteries, leading to stroke, aneurysms, etc. \n"
   ]
  },
  {
   "cell_type": "markdown",
   "id": "7cebd7fa-a7be-4517-8cc1-f4a438f44d46",
   "metadata": {},
   "source": [
    "### Step by Step\n",
    "\n",
    "1. Read and tidy the data\r\n",
    "2. Finding K value\r\n",
    "3. Visualizing\r\n",
    "4. Test\n",
    "\n",
    "ing"
   ]
  },
  {
   "cell_type": "markdown",
   "id": "eb0619f1-a052-43d5-97fb-889982a232ae",
   "metadata": {},
   "source": [
    "\n",
    "### Preprocessing and exploratory data analysis\n",
    "\n",
    "#### Importing libraries and formatting graphs"
   ]
  },
  {
   "cell_type": "code",
   "execution_count": 1,
   "id": "b5afbb9b-a8ff-470c-b3c5-82f497d0595e",
   "metadata": {},
   "outputs": [
    {
     "name": "stderr",
     "output_type": "stream",
     "text": [
      "Warning message:\n",
      "“package ‘ggplot2’ was built under R version 4.3.2”\n",
      "── \u001b[1mAttaching core tidyverse packages\u001b[22m ──────────────────────── tidyverse 2.0.0 ──\n",
      "\u001b[32m✔\u001b[39m \u001b[34mdplyr    \u001b[39m 1.1.3     \u001b[32m✔\u001b[39m \u001b[34mreadr    \u001b[39m 2.1.4\n",
      "\u001b[32m✔\u001b[39m \u001b[34mforcats  \u001b[39m 1.0.0     \u001b[32m✔\u001b[39m \u001b[34mstringr  \u001b[39m 1.5.0\n",
      "\u001b[32m✔\u001b[39m \u001b[34mggplot2  \u001b[39m 3.5.0     \u001b[32m✔\u001b[39m \u001b[34mtibble   \u001b[39m 3.2.1\n",
      "\u001b[32m✔\u001b[39m \u001b[34mlubridate\u001b[39m 1.9.2     \u001b[32m✔\u001b[39m \u001b[34mtidyr    \u001b[39m 1.3.0\n",
      "\u001b[32m✔\u001b[39m \u001b[34mpurrr    \u001b[39m 1.0.2     \n",
      "── \u001b[1mConflicts\u001b[22m ────────────────────────────────────────── tidyverse_conflicts() ──\n",
      "\u001b[31m✖\u001b[39m \u001b[34mdplyr\u001b[39m::\u001b[32mfilter()\u001b[39m masks \u001b[34mstats\u001b[39m::filter()\n",
      "\u001b[31m✖\u001b[39m \u001b[34mdplyr\u001b[39m::\u001b[32mlag()\u001b[39m    masks \u001b[34mstats\u001b[39m::lag()\n",
      "\u001b[36mℹ\u001b[39m Use the conflicted package (\u001b[3m\u001b[34m<http://conflicted.r-lib.org/>\u001b[39m\u001b[23m) to force all conflicts to become errors\n",
      "── \u001b[1mAttaching packages\u001b[22m ────────────────────────────────────── tidymodels 1.1.1 ──\n",
      "\n",
      "\u001b[32m✔\u001b[39m \u001b[34mbroom       \u001b[39m 1.0.5     \u001b[32m✔\u001b[39m \u001b[34mrsample     \u001b[39m 1.2.0\n",
      "\u001b[32m✔\u001b[39m \u001b[34mdials       \u001b[39m 1.2.0     \u001b[32m✔\u001b[39m \u001b[34mtune        \u001b[39m 1.1.2\n",
      "\u001b[32m✔\u001b[39m \u001b[34minfer       \u001b[39m 1.0.5     \u001b[32m✔\u001b[39m \u001b[34mworkflows   \u001b[39m 1.1.3\n",
      "\u001b[32m✔\u001b[39m \u001b[34mmodeldata   \u001b[39m 1.2.0     \u001b[32m✔\u001b[39m \u001b[34mworkflowsets\u001b[39m 1.0.1\n",
      "\u001b[32m✔\u001b[39m \u001b[34mparsnip     \u001b[39m 1.1.1     \u001b[32m✔\u001b[39m \u001b[34myardstick   \u001b[39m 1.2.0\n",
      "\u001b[32m✔\u001b[39m \u001b[34mrecipes     \u001b[39m 1.0.8     \n",
      "\n",
      "── \u001b[1mConflicts\u001b[22m ───────────────────────────────────────── tidymodels_conflicts() ──\n",
      "\u001b[31m✖\u001b[39m \u001b[34mscales\u001b[39m::\u001b[32mdiscard()\u001b[39m masks \u001b[34mpurrr\u001b[39m::discard()\n",
      "\u001b[31m✖\u001b[39m \u001b[34mdplyr\u001b[39m::\u001b[32mfilter()\u001b[39m   masks \u001b[34mstats\u001b[39m::filter()\n",
      "\u001b[31m✖\u001b[39m \u001b[34mrecipes\u001b[39m::\u001b[32mfixed()\u001b[39m  masks \u001b[34mstringr\u001b[39m::fixed()\n",
      "\u001b[31m✖\u001b[39m \u001b[34mdplyr\u001b[39m::\u001b[32mlag()\u001b[39m      masks \u001b[34mstats\u001b[39m::lag()\n",
      "\u001b[31m✖\u001b[39m \u001b[34myardstick\u001b[39m::\u001b[32mspec()\u001b[39m masks \u001b[34mreadr\u001b[39m::spec()\n",
      "\u001b[31m✖\u001b[39m \u001b[34mrecipes\u001b[39m::\u001b[32mstep()\u001b[39m   masks \u001b[34mstats\u001b[39m::step()\n",
      "\u001b[34m•\u001b[39m Use \u001b[32mtidymodels_prefer()\u001b[39m to resolve common conflicts.\n",
      "\n"
     ]
    }
   ],
   "source": [
    "# importing libraries\n",
    " \n",
    "library(tidyverse)\n",
    "library(tidymodels)\n",
    "library(repr)\n",
    "library(RColorBrewer)"
   ]
  },
  {
   "cell_type": "markdown",
   "id": "e1974eb0-de37-4835-aa9c-81be813170c2",
   "metadata": {},
   "source": [
    "### (we need description) Tidy the data"
   ]
  },
  {
   "cell_type": "code",
   "execution_count": 7,
   "id": "72869fb8-364d-42d0-a0ba-2c0cc4846fd0",
   "metadata": {},
   "outputs": [
    {
     "data": {
      "text/html": [
       "<table class=\"dataframe\">\n",
       "<caption>A tibble: 6 × 15</caption>\n",
       "<thead>\n",
       "\t<tr><th scope=col>age</th><th scope=col>sex</th><th scope=col>cp</th><th scope=col>trestbps</th><th scope=col>chol</th><th scope=col>fbs</th><th scope=col>restecg</th><th scope=col>thalach</th><th scope=col>exang</th><th scope=col>oldpeak</th><th scope=col>slope</th><th scope=col>ca</th><th scope=col>thal</th><th scope=col>num</th><th scope=col>diagno</th></tr>\n",
       "\t<tr><th scope=col>&lt;dbl&gt;</th><th scope=col>&lt;fct&gt;</th><th scope=col>&lt;fct&gt;</th><th scope=col>&lt;dbl&gt;</th><th scope=col>&lt;dbl&gt;</th><th scope=col>&lt;fct&gt;</th><th scope=col>&lt;fct&gt;</th><th scope=col>&lt;dbl&gt;</th><th scope=col>&lt;fct&gt;</th><th scope=col>&lt;dbl&gt;</th><th scope=col>&lt;fct&gt;</th><th scope=col>&lt;fct&gt;</th><th scope=col>&lt;fct&gt;</th><th scope=col>&lt;dbl&gt;</th><th scope=col>&lt;lgl&gt;</th></tr>\n",
       "</thead>\n",
       "<tbody>\n",
       "\t<tr><td>63</td><td>1</td><td>1</td><td>145</td><td>233</td><td>1</td><td>2</td><td>150</td><td>0</td><td>2.3</td><td>3</td><td>0.0</td><td>6.0</td><td>0</td><td>FALSE</td></tr>\n",
       "\t<tr><td>67</td><td>1</td><td>4</td><td>160</td><td>286</td><td>0</td><td>2</td><td>108</td><td>1</td><td>1.5</td><td>2</td><td>3.0</td><td>3.0</td><td>2</td><td> TRUE</td></tr>\n",
       "\t<tr><td>67</td><td>1</td><td>4</td><td>120</td><td>229</td><td>0</td><td>2</td><td>129</td><td>1</td><td>2.6</td><td>2</td><td>2.0</td><td>7.0</td><td>1</td><td> TRUE</td></tr>\n",
       "\t<tr><td>37</td><td>1</td><td>3</td><td>130</td><td>250</td><td>0</td><td>0</td><td>187</td><td>0</td><td>3.5</td><td>3</td><td>0.0</td><td>3.0</td><td>0</td><td>FALSE</td></tr>\n",
       "\t<tr><td>41</td><td>0</td><td>2</td><td>130</td><td>204</td><td>0</td><td>2</td><td>172</td><td>0</td><td>1.4</td><td>1</td><td>0.0</td><td>3.0</td><td>0</td><td>FALSE</td></tr>\n",
       "\t<tr><td>56</td><td>1</td><td>2</td><td>120</td><td>236</td><td>0</td><td>0</td><td>178</td><td>0</td><td>0.8</td><td>1</td><td>0.0</td><td>3.0</td><td>0</td><td>FALSE</td></tr>\n",
       "</tbody>\n",
       "</table>\n"
      ],
      "text/latex": [
       "A tibble: 6 × 15\n",
       "\\begin{tabular}{lllllllllllllll}\n",
       " age & sex & cp & trestbps & chol & fbs & restecg & thalach & exang & oldpeak & slope & ca & thal & num & diagno\\\\\n",
       " <dbl> & <fct> & <fct> & <dbl> & <dbl> & <fct> & <fct> & <dbl> & <fct> & <dbl> & <fct> & <fct> & <fct> & <dbl> & <lgl>\\\\\n",
       "\\hline\n",
       "\t 63 & 1 & 1 & 145 & 233 & 1 & 2 & 150 & 0 & 2.3 & 3 & 0.0 & 6.0 & 0 & FALSE\\\\\n",
       "\t 67 & 1 & 4 & 160 & 286 & 0 & 2 & 108 & 1 & 1.5 & 2 & 3.0 & 3.0 & 2 &  TRUE\\\\\n",
       "\t 67 & 1 & 4 & 120 & 229 & 0 & 2 & 129 & 1 & 2.6 & 2 & 2.0 & 7.0 & 1 &  TRUE\\\\\n",
       "\t 37 & 1 & 3 & 130 & 250 & 0 & 0 & 187 & 0 & 3.5 & 3 & 0.0 & 3.0 & 0 & FALSE\\\\\n",
       "\t 41 & 0 & 2 & 130 & 204 & 0 & 2 & 172 & 0 & 1.4 & 1 & 0.0 & 3.0 & 0 & FALSE\\\\\n",
       "\t 56 & 1 & 2 & 120 & 236 & 0 & 0 & 178 & 0 & 0.8 & 1 & 0.0 & 3.0 & 0 & FALSE\\\\\n",
       "\\end{tabular}\n"
      ],
      "text/markdown": [
       "\n",
       "A tibble: 6 × 15\n",
       "\n",
       "| age &lt;dbl&gt; | sex &lt;fct&gt; | cp &lt;fct&gt; | trestbps &lt;dbl&gt; | chol &lt;dbl&gt; | fbs &lt;fct&gt; | restecg &lt;fct&gt; | thalach &lt;dbl&gt; | exang &lt;fct&gt; | oldpeak &lt;dbl&gt; | slope &lt;fct&gt; | ca &lt;fct&gt; | thal &lt;fct&gt; | num &lt;dbl&gt; | diagno &lt;lgl&gt; |\n",
       "|---|---|---|---|---|---|---|---|---|---|---|---|---|---|---|\n",
       "| 63 | 1 | 1 | 145 | 233 | 1 | 2 | 150 | 0 | 2.3 | 3 | 0.0 | 6.0 | 0 | FALSE |\n",
       "| 67 | 1 | 4 | 160 | 286 | 0 | 2 | 108 | 1 | 1.5 | 2 | 3.0 | 3.0 | 2 |  TRUE |\n",
       "| 67 | 1 | 4 | 120 | 229 | 0 | 2 | 129 | 1 | 2.6 | 2 | 2.0 | 7.0 | 1 |  TRUE |\n",
       "| 37 | 1 | 3 | 130 | 250 | 0 | 0 | 187 | 0 | 3.5 | 3 | 0.0 | 3.0 | 0 | FALSE |\n",
       "| 41 | 0 | 2 | 130 | 204 | 0 | 2 | 172 | 0 | 1.4 | 1 | 0.0 | 3.0 | 0 | FALSE |\n",
       "| 56 | 1 | 2 | 120 | 236 | 0 | 0 | 178 | 0 | 0.8 | 1 | 0.0 | 3.0 | 0 | FALSE |\n",
       "\n"
      ],
      "text/plain": [
       "  age sex cp trestbps chol fbs restecg thalach exang oldpeak slope ca  thal num\n",
       "1 63  1   1  145      233  1   2       150     0     2.3     3     0.0 6.0  0  \n",
       "2 67  1   4  160      286  0   2       108     1     1.5     2     3.0 3.0  2  \n",
       "3 67  1   4  120      229  0   2       129     1     2.6     2     2.0 7.0  1  \n",
       "4 37  1   3  130      250  0   0       187     0     3.5     3     0.0 3.0  0  \n",
       "5 41  0   2  130      204  0   2       172     0     1.4     1     0.0 3.0  0  \n",
       "6 56  1   2  120      236  0   0       178     0     0.8     1     0.0 3.0  0  \n",
       "  diagno\n",
       "1 FALSE \n",
       "2  TRUE \n",
       "3  TRUE \n",
       "4 FALSE \n",
       "5 FALSE \n",
       "6 FALSE "
      ]
     },
     "metadata": {},
     "output_type": "display_data"
    }
   ],
   "source": [
    "set.seed(1)\n",
    "\n",
    "# reading the data, assigning column names and character types\n",
    "cleveland_data <- read_csv(\"processed.cleveland.csv\",\n",
    "                           col_names = c(\"age\", \"sex\", \"cp\", \"trestbps\", \"chol\", \"fbs\", \"restecg\", \"thalach\", \n",
    "                                        \"exang\", \"oldpeak\", \"slope\", \"ca\", \"thal\", \"num\"),\n",
    "                           col_types = list(\"d\", \"d\", \"d\", \"d\", \"d\", \"d\", \"d\", \"d\", \"d\", \"d\", \"d\", \"f\" , \"f\", \"d\"))\n",
    "\n",
    "# cleaning (tidying) and wrangling data\n",
    "cleveland_data[ cleveland_data == \"?\" ] <- NA\n",
    "\n",
    "cleveland_tidy <- cleveland_data |>\n",
    "                   mutate(diagno = ifelse(is.na(num), NA, (num > 0))) |>\n",
    "                   mutate(sex = as_factor(sex), cp = as_factor(cp),\n",
    "                         fbs = as_factor(fbs), restecg = as_factor(restecg),\n",
    "                         exang = as_factor(exang), thal = as_factor(thal), \n",
    "                         ca = as_factor(ca), slope = as_factor(slope))\n",
    "head(cleveland_tidy)\n"
   ]
  },
  {
   "cell_type": "markdown",
   "id": "1417e525-3266-4a55-9966-f17c3c77b4cd",
   "metadata": {},
   "source": [
    "### (we need description) Split data"
   ]
  },
  {
   "cell_type": "code",
   "execution_count": 11,
   "id": "43ad9435-8901-4d7c-b6dc-7b0c4e5578d0",
   "metadata": {},
   "outputs": [
    {
     "data": {
      "text/html": [
       "<table class=\"dataframe\">\n",
       "<caption>A tibble: 6 × 15</caption>\n",
       "<thead>\n",
       "\t<tr><th scope=col>age</th><th scope=col>sex</th><th scope=col>cp</th><th scope=col>trestbps</th><th scope=col>chol</th><th scope=col>fbs</th><th scope=col>restecg</th><th scope=col>thalach</th><th scope=col>exang</th><th scope=col>oldpeak</th><th scope=col>slope</th><th scope=col>ca</th><th scope=col>thal</th><th scope=col>num</th><th scope=col>diagno</th></tr>\n",
       "\t<tr><th scope=col>&lt;dbl&gt;</th><th scope=col>&lt;fct&gt;</th><th scope=col>&lt;fct&gt;</th><th scope=col>&lt;dbl&gt;</th><th scope=col>&lt;dbl&gt;</th><th scope=col>&lt;fct&gt;</th><th scope=col>&lt;fct&gt;</th><th scope=col>&lt;dbl&gt;</th><th scope=col>&lt;fct&gt;</th><th scope=col>&lt;dbl&gt;</th><th scope=col>&lt;fct&gt;</th><th scope=col>&lt;fct&gt;</th><th scope=col>&lt;fct&gt;</th><th scope=col>&lt;dbl&gt;</th><th scope=col>&lt;lgl&gt;</th></tr>\n",
       "</thead>\n",
       "<tbody>\n",
       "\t<tr><td>63</td><td>1</td><td>1</td><td>145</td><td>233</td><td>1</td><td>2</td><td>150</td><td>0</td><td>2.3</td><td>3</td><td>0.0</td><td>6.0</td><td>0</td><td>FALSE</td></tr>\n",
       "\t<tr><td>37</td><td>1</td><td>3</td><td>130</td><td>250</td><td>0</td><td>0</td><td>187</td><td>0</td><td>3.5</td><td>3</td><td>0.0</td><td>3.0</td><td>0</td><td>FALSE</td></tr>\n",
       "\t<tr><td>41</td><td>0</td><td>2</td><td>130</td><td>204</td><td>0</td><td>2</td><td>172</td><td>0</td><td>1.4</td><td>1</td><td>0.0</td><td>3.0</td><td>0</td><td>FALSE</td></tr>\n",
       "\t<tr><td>57</td><td>0</td><td>4</td><td>120</td><td>354</td><td>0</td><td>0</td><td>163</td><td>1</td><td>0.6</td><td>1</td><td>0.0</td><td>3.0</td><td>0</td><td>FALSE</td></tr>\n",
       "\t<tr><td>57</td><td>1</td><td>4</td><td>140</td><td>192</td><td>0</td><td>0</td><td>148</td><td>0</td><td>0.4</td><td>2</td><td>0.0</td><td>6.0</td><td>0</td><td>FALSE</td></tr>\n",
       "\t<tr><td>56</td><td>0</td><td>2</td><td>140</td><td>294</td><td>0</td><td>2</td><td>153</td><td>0</td><td>1.3</td><td>2</td><td>0.0</td><td>3.0</td><td>0</td><td>FALSE</td></tr>\n",
       "</tbody>\n",
       "</table>\n"
      ],
      "text/latex": [
       "A tibble: 6 × 15\n",
       "\\begin{tabular}{lllllllllllllll}\n",
       " age & sex & cp & trestbps & chol & fbs & restecg & thalach & exang & oldpeak & slope & ca & thal & num & diagno\\\\\n",
       " <dbl> & <fct> & <fct> & <dbl> & <dbl> & <fct> & <fct> & <dbl> & <fct> & <dbl> & <fct> & <fct> & <fct> & <dbl> & <lgl>\\\\\n",
       "\\hline\n",
       "\t 63 & 1 & 1 & 145 & 233 & 1 & 2 & 150 & 0 & 2.3 & 3 & 0.0 & 6.0 & 0 & FALSE\\\\\n",
       "\t 37 & 1 & 3 & 130 & 250 & 0 & 0 & 187 & 0 & 3.5 & 3 & 0.0 & 3.0 & 0 & FALSE\\\\\n",
       "\t 41 & 0 & 2 & 130 & 204 & 0 & 2 & 172 & 0 & 1.4 & 1 & 0.0 & 3.0 & 0 & FALSE\\\\\n",
       "\t 57 & 0 & 4 & 120 & 354 & 0 & 0 & 163 & 1 & 0.6 & 1 & 0.0 & 3.0 & 0 & FALSE\\\\\n",
       "\t 57 & 1 & 4 & 140 & 192 & 0 & 0 & 148 & 0 & 0.4 & 2 & 0.0 & 6.0 & 0 & FALSE\\\\\n",
       "\t 56 & 0 & 2 & 140 & 294 & 0 & 2 & 153 & 0 & 1.3 & 2 & 0.0 & 3.0 & 0 & FALSE\\\\\n",
       "\\end{tabular}\n"
      ],
      "text/markdown": [
       "\n",
       "A tibble: 6 × 15\n",
       "\n",
       "| age &lt;dbl&gt; | sex &lt;fct&gt; | cp &lt;fct&gt; | trestbps &lt;dbl&gt; | chol &lt;dbl&gt; | fbs &lt;fct&gt; | restecg &lt;fct&gt; | thalach &lt;dbl&gt; | exang &lt;fct&gt; | oldpeak &lt;dbl&gt; | slope &lt;fct&gt; | ca &lt;fct&gt; | thal &lt;fct&gt; | num &lt;dbl&gt; | diagno &lt;lgl&gt; |\n",
       "|---|---|---|---|---|---|---|---|---|---|---|---|---|---|---|\n",
       "| 63 | 1 | 1 | 145 | 233 | 1 | 2 | 150 | 0 | 2.3 | 3 | 0.0 | 6.0 | 0 | FALSE |\n",
       "| 37 | 1 | 3 | 130 | 250 | 0 | 0 | 187 | 0 | 3.5 | 3 | 0.0 | 3.0 | 0 | FALSE |\n",
       "| 41 | 0 | 2 | 130 | 204 | 0 | 2 | 172 | 0 | 1.4 | 1 | 0.0 | 3.0 | 0 | FALSE |\n",
       "| 57 | 0 | 4 | 120 | 354 | 0 | 0 | 163 | 1 | 0.6 | 1 | 0.0 | 3.0 | 0 | FALSE |\n",
       "| 57 | 1 | 4 | 140 | 192 | 0 | 0 | 148 | 0 | 0.4 | 2 | 0.0 | 6.0 | 0 | FALSE |\n",
       "| 56 | 0 | 2 | 140 | 294 | 0 | 2 | 153 | 0 | 1.3 | 2 | 0.0 | 3.0 | 0 | FALSE |\n",
       "\n"
      ],
      "text/plain": [
       "  age sex cp trestbps chol fbs restecg thalach exang oldpeak slope ca  thal num\n",
       "1 63  1   1  145      233  1   2       150     0     2.3     3     0.0 6.0  0  \n",
       "2 37  1   3  130      250  0   0       187     0     3.5     3     0.0 3.0  0  \n",
       "3 41  0   2  130      204  0   2       172     0     1.4     1     0.0 3.0  0  \n",
       "4 57  0   4  120      354  0   0       163     1     0.6     1     0.0 3.0  0  \n",
       "5 57  1   4  140      192  0   0       148     0     0.4     2     0.0 6.0  0  \n",
       "6 56  0   2  140      294  0   2       153     0     1.3     2     0.0 3.0  0  \n",
       "  diagno\n",
       "1 FALSE \n",
       "2 FALSE \n",
       "3 FALSE \n",
       "4 FALSE \n",
       "5 FALSE \n",
       "6 FALSE "
      ]
     },
     "metadata": {},
     "output_type": "display_data"
    },
    {
     "data": {
      "text/html": [
       "225"
      ],
      "text/latex": [
       "225"
      ],
      "text/markdown": [
       "225"
      ],
      "text/plain": [
       "[1] 225"
      ]
     },
     "metadata": {},
     "output_type": "display_data"
    },
    {
     "data": {
      "text/html": [
       "78"
      ],
      "text/latex": [
       "78"
      ],
      "text/markdown": [
       "78"
      ],
      "text/plain": [
       "[1] 78"
      ]
     },
     "metadata": {},
     "output_type": "display_data"
    }
   ],
   "source": [
    "# splitting the dataframe into testing and training datasets\n",
    "cleveland_split <- initial_split(cleveland_tidy, prop = 0.75, strata = num)\n",
    "\n",
    "cleveland_training <- training(cleveland_split)\n",
    "cleveland_testing <- testing(cleveland_split)\n",
    "\n",
    "head(cleveland_training)\n",
    "\n",
    "nrow(cleveland_training)\n",
    "nrow(cleveland_testing)"
   ]
  },
  {
   "cell_type": "markdown",
   "id": "acc4208b-a0c5-4c2a-9c65-626a787f8d0c",
   "metadata": {},
   "source": [
    "### (we need description) Summarizing"
   ]
  },
  {
   "cell_type": "code",
   "execution_count": 12,
   "id": "73436e1e-4b16-4c8b-bade-01f8d8322080",
   "metadata": {},
   "outputs": [
    {
     "data": {
      "text/html": [
       "<table class=\"dataframe\">\n",
       "<caption>A tibble: 2 × 14</caption>\n",
       "<thead>\n",
       "\t<tr><th scope=col>diagno</th><th scope=col>min_age</th><th scope=col>max_age</th><th scope=col>mean_age</th><th scope=col>min_chol</th><th scope=col>max_chol</th><th scope=col>mean_chol</th><th scope=col>min_trestbps</th><th scope=col>max_trestbps</th><th scope=col>mean_trestbps</th><th scope=col>min_thalach</th><th scope=col>max_thalach</th><th scope=col>mean_thalach</th><th scope=col>no_of_patients</th></tr>\n",
       "\t<tr><th scope=col>&lt;lgl&gt;</th><th scope=col>&lt;dbl&gt;</th><th scope=col>&lt;dbl&gt;</th><th scope=col>&lt;dbl&gt;</th><th scope=col>&lt;dbl&gt;</th><th scope=col>&lt;dbl&gt;</th><th scope=col>&lt;dbl&gt;</th><th scope=col>&lt;dbl&gt;</th><th scope=col>&lt;dbl&gt;</th><th scope=col>&lt;dbl&gt;</th><th scope=col>&lt;dbl&gt;</th><th scope=col>&lt;dbl&gt;</th><th scope=col>&lt;dbl&gt;</th><th scope=col>&lt;int&gt;</th></tr>\n",
       "</thead>\n",
       "<tbody>\n",
       "\t<tr><td>FALSE</td><td>34</td><td>76</td><td>52.69672</td><td>126</td><td>564</td><td>241.8115</td><td> 94</td><td>180</td><td>128.7377</td><td>111</td><td>194</td><td>158.4262</td><td>122</td></tr>\n",
       "\t<tr><td> TRUE</td><td>35</td><td>77</td><td>57.04854</td><td>131</td><td>409</td><td>251.7670</td><td>100</td><td>200</td><td>135.1845</td><td> 71</td><td>195</td><td>138.3301</td><td>103</td></tr>\n",
       "</tbody>\n",
       "</table>\n"
      ],
      "text/latex": [
       "A tibble: 2 × 14\n",
       "\\begin{tabular}{llllllllllllll}\n",
       " diagno & min\\_age & max\\_age & mean\\_age & min\\_chol & max\\_chol & mean\\_chol & min\\_trestbps & max\\_trestbps & mean\\_trestbps & min\\_thalach & max\\_thalach & mean\\_thalach & no\\_of\\_patients\\\\\n",
       " <lgl> & <dbl> & <dbl> & <dbl> & <dbl> & <dbl> & <dbl> & <dbl> & <dbl> & <dbl> & <dbl> & <dbl> & <dbl> & <int>\\\\\n",
       "\\hline\n",
       "\t FALSE & 34 & 76 & 52.69672 & 126 & 564 & 241.8115 &  94 & 180 & 128.7377 & 111 & 194 & 158.4262 & 122\\\\\n",
       "\t  TRUE & 35 & 77 & 57.04854 & 131 & 409 & 251.7670 & 100 & 200 & 135.1845 &  71 & 195 & 138.3301 & 103\\\\\n",
       "\\end{tabular}\n"
      ],
      "text/markdown": [
       "\n",
       "A tibble: 2 × 14\n",
       "\n",
       "| diagno &lt;lgl&gt; | min_age &lt;dbl&gt; | max_age &lt;dbl&gt; | mean_age &lt;dbl&gt; | min_chol &lt;dbl&gt; | max_chol &lt;dbl&gt; | mean_chol &lt;dbl&gt; | min_trestbps &lt;dbl&gt; | max_trestbps &lt;dbl&gt; | mean_trestbps &lt;dbl&gt; | min_thalach &lt;dbl&gt; | max_thalach &lt;dbl&gt; | mean_thalach &lt;dbl&gt; | no_of_patients &lt;int&gt; |\n",
       "|---|---|---|---|---|---|---|---|---|---|---|---|---|---|\n",
       "| FALSE | 34 | 76 | 52.69672 | 126 | 564 | 241.8115 |  94 | 180 | 128.7377 | 111 | 194 | 158.4262 | 122 |\n",
       "|  TRUE | 35 | 77 | 57.04854 | 131 | 409 | 251.7670 | 100 | 200 | 135.1845 |  71 | 195 | 138.3301 | 103 |\n",
       "\n"
      ],
      "text/plain": [
       "  diagno min_age max_age mean_age min_chol max_chol mean_chol min_trestbps\n",
       "1 FALSE  34      76      52.69672 126      564      241.8115   94         \n",
       "2  TRUE  35      77      57.04854 131      409      251.7670  100         \n",
       "  max_trestbps mean_trestbps min_thalach max_thalach mean_thalach\n",
       "1 180          128.7377      111         194         158.4262    \n",
       "2 200          135.1845       71         195         138.3301    \n",
       "  no_of_patients\n",
       "1 122           \n",
       "2 103           "
      ]
     },
     "metadata": {},
     "output_type": "display_data"
    }
   ],
   "source": [
    "# summarizing to get minimum, maximum, and mean of each predictor variable + total number of rows per class\n",
    "cleveland_summary <- cleveland_training |>\n",
    "                     group_by(diagno) |> \n",
    "                     summarize(min_age = min(age), max_age = max(age), mean_age = mean(age), \n",
    "                               min_chol = min(chol), max_chol = max(chol), mean_chol = mean(chol),\n",
    "                               min_trestbps = min(trestbps), max_trestbps = max(trestbps), mean_trestbps = mean(trestbps),\n",
    "                               min_thalach = min(thalach), max_thalach = max(thalach), mean_thalach = mean(thalach),\n",
    "                               no_of_patients = n())\n",
    "\n",
    "cleveland_summary"
   ]
  },
  {
   "cell_type": "markdown",
   "id": "33553f2f-b875-4435-a875-cebb54b1d6db",
   "metadata": {},
   "source": [
    "### Visualizing the realtionship between predictors and class (need more description)"
   ]
  },
  {
   "cell_type": "code",
   "execution_count": null,
   "id": "8f9cdb71-1210-4380-be7a-5e395bf714d6",
   "metadata": {},
   "outputs": [],
   "source": []
  }
 ],
 "metadata": {
  "kernelspec": {
   "display_name": "R",
   "language": "R",
   "name": "ir"
  },
  "language_info": {
   "codemirror_mode": "r",
   "file_extension": ".r",
   "mimetype": "text/x-r-source",
   "name": "R",
   "pygments_lexer": "r",
   "version": "4.3.1"
  }
 },
 "nbformat": 4,
 "nbformat_minor": 5
}
