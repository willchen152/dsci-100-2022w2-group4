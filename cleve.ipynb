{
 "cells": [
  {
   "cell_type": "code",
   "execution_count": 1,
   "id": "eb657f25-6151-4272-9301-e4eb10ec4060",
   "metadata": {},
   "outputs": [
    {
     "name": "stderr",
     "output_type": "stream",
     "text": [
      "── \u001b[1mAttaching core tidyverse packages\u001b[22m ──────────────────────── tidyverse 2.0.0 ──\n",
      "\u001b[32m✔\u001b[39m \u001b[34mdplyr    \u001b[39m 1.1.3     \u001b[32m✔\u001b[39m \u001b[34mreadr    \u001b[39m 2.1.4\n",
      "\u001b[32m✔\u001b[39m \u001b[34mforcats  \u001b[39m 1.0.0     \u001b[32m✔\u001b[39m \u001b[34mstringr  \u001b[39m 1.5.0\n",
      "\u001b[32m✔\u001b[39m \u001b[34mggplot2  \u001b[39m 3.4.4     \u001b[32m✔\u001b[39m \u001b[34mtibble   \u001b[39m 3.2.1\n",
      "\u001b[32m✔\u001b[39m \u001b[34mlubridate\u001b[39m 1.9.3     \u001b[32m✔\u001b[39m \u001b[34mtidyr    \u001b[39m 1.3.0\n",
      "\u001b[32m✔\u001b[39m \u001b[34mpurrr    \u001b[39m 1.0.2     \n",
      "── \u001b[1mConflicts\u001b[22m ────────────────────────────────────────── tidyverse_conflicts() ──\n",
      "\u001b[31m✖\u001b[39m \u001b[34mdplyr\u001b[39m::\u001b[32mfilter()\u001b[39m masks \u001b[34mstats\u001b[39m::filter()\n",
      "\u001b[31m✖\u001b[39m \u001b[34mdplyr\u001b[39m::\u001b[32mlag()\u001b[39m    masks \u001b[34mstats\u001b[39m::lag()\n",
      "\u001b[36mℹ\u001b[39m Use the conflicted package (\u001b[3m\u001b[34m<http://conflicted.r-lib.org/>\u001b[39m\u001b[23m) to force all conflicts to become errors\n",
      "── \u001b[1mAttaching packages\u001b[22m ────────────────────────────────────── tidymodels 1.1.1 ──\n",
      "\n",
      "\u001b[32m✔\u001b[39m \u001b[34mbroom       \u001b[39m 1.0.5     \u001b[32m✔\u001b[39m \u001b[34mrsample     \u001b[39m 1.2.0\n",
      "\u001b[32m✔\u001b[39m \u001b[34mdials       \u001b[39m 1.2.0     \u001b[32m✔\u001b[39m \u001b[34mtune        \u001b[39m 1.1.2\n",
      "\u001b[32m✔\u001b[39m \u001b[34minfer       \u001b[39m 1.0.5     \u001b[32m✔\u001b[39m \u001b[34mworkflows   \u001b[39m 1.1.3\n",
      "\u001b[32m✔\u001b[39m \u001b[34mmodeldata   \u001b[39m 1.2.0     \u001b[32m✔\u001b[39m \u001b[34mworkflowsets\u001b[39m 1.0.1\n",
      "\u001b[32m✔\u001b[39m \u001b[34mparsnip     \u001b[39m 1.1.1     \u001b[32m✔\u001b[39m \u001b[34myardstick   \u001b[39m 1.2.0\n",
      "\u001b[32m✔\u001b[39m \u001b[34mrecipes     \u001b[39m 1.0.8     \n",
      "\n",
      "── \u001b[1mConflicts\u001b[22m ───────────────────────────────────────── tidymodels_conflicts() ──\n",
      "\u001b[31m✖\u001b[39m \u001b[34mscales\u001b[39m::\u001b[32mdiscard()\u001b[39m masks \u001b[34mpurrr\u001b[39m::discard()\n",
      "\u001b[31m✖\u001b[39m \u001b[34mdplyr\u001b[39m::\u001b[32mfilter()\u001b[39m   masks \u001b[34mstats\u001b[39m::filter()\n",
      "\u001b[31m✖\u001b[39m \u001b[34mrecipes\u001b[39m::\u001b[32mfixed()\u001b[39m  masks \u001b[34mstringr\u001b[39m::fixed()\n",
      "\u001b[31m✖\u001b[39m \u001b[34mdplyr\u001b[39m::\u001b[32mlag()\u001b[39m      masks \u001b[34mstats\u001b[39m::lag()\n",
      "\u001b[31m✖\u001b[39m \u001b[34myardstick\u001b[39m::\u001b[32mspec()\u001b[39m masks \u001b[34mreadr\u001b[39m::spec()\n",
      "\u001b[31m✖\u001b[39m \u001b[34mrecipes\u001b[39m::\u001b[32mstep()\u001b[39m   masks \u001b[34mstats\u001b[39m::step()\n",
      "\u001b[34m•\u001b[39m Search for functions across packages at \u001b[32mhttps://www.tidymodels.org/find/\u001b[39m\n",
      "\n",
      "Warning message in file(filename, \"r\", encoding = encoding):\n",
      "“cannot open file 'tests.R': No such file or directory”\n"
     ]
    },
    {
     "ename": "ERROR",
     "evalue": "Error in file(filename, \"r\", encoding = encoding): cannot open the connection\n",
     "output_type": "error",
     "traceback": [
      "Error in file(filename, \"r\", encoding = encoding): cannot open the connection\nTraceback:\n",
      "1. source(\"tests.R\")",
      "2. file(filename, \"r\", encoding = encoding)"
     ]
    }
   ],
   "source": [
    "library(repr)\n",
    "library(tidyverse)\n",
    "library(tidymodels)\n",
    "options(repr.matrix.max.rows = 10)\n",
    "source('tests.R')\n",
    "source(\"cleanup.R\")"
   ]
  },
  {
   "cell_type": "code",
   "execution_count": null,
   "id": "21bd255f-27d2-47ff-92eb-538da288140a",
   "metadata": {},
   "outputs": [],
   "source": [
    "something <- read_csv(\"dsci-100-2023w2-group4/cleve.mod\", skip = 20)\n",
    "something"
   ]
  },
  {
   "cell_type": "code",
   "execution_count": null,
   "id": "a96d5caa-3f29-42f8-a485-7a7e23dd0460",
   "metadata": {},
   "outputs": [],
   "source": [
    "cleveland_data <- read_csv(\"https://archive.ics.uci.edu/ml/machine-learning-databases/heart-disease/processed.cleveland.data\",\n",
    "                  col_names = c(\"age\", \"sex\", \"cp\", \"trestbps\", \"chol\", \"fbs\", \"restecg\", \n",
    "                                \"thalach\", \"exang\", \"oldpeak\", \"slope\", \"ca\", \"thal\", \"num\"),\n",
    "                col_types = list(\"d\", \"d\", \"d\", \"d\", \"d\", \"d\", \"d\", \"d\", \"d\", \"d\", \"d\", \"f\", \"f\", \"d\"))\n",
    "cleveland_data\n",
    "cleveland_data[ cleveland_data == \"?\" ] <- NA\n",
    "\n",
    "cleveland_clean <- cleveland_data %>%\n",
    "                    mutate(diag = ifelse(is.na(num), NA, (num > 0))) %>%\n",
    "                    mutate(sex = as.factor(as.integer(sex)), cp = as.factor(as.integer(cp)), \n",
    "                           fbs = as.factor(as.integer(fbs)), restecg = as.factor(as.integer(restecg)),\n",
    "                           exang = as.factor(as.integer(exang)), thal = as.factor(as.integer(thal)),\n",
    "                           ca = as.factor(as.integer(ca)), slope = as.factor(as.integer(slope)))\n",
    "\n",
    "#splitting dataframe into training, testing datasets\n",
    "cleveland_split <- initial_split(cleveland_clean, prop = 3/4, strata = num)\n",
    "\n",
    "cleveland_training <- training(cleveland_split)\n",
    "cleveland_testing <- testing(cleveland_split)\n",
    "\n",
    "cleveland_training\n",
    "cleveland_testing"
   ]
  },
  {
   "cell_type": "markdown",
   "id": "8e885a14-e767-4082-8a58-50a3b978071f",
   "metadata": {},
   "source": [
    "Method"
   ]
  },
  {
   "cell_type": "code",
   "execution_count": null,
   "id": "0952c5b3-0bb2-4f00-89a8-af074d6f57af",
   "metadata": {},
   "outputs": [],
   "source": [
    "cleveland_summary <- cleveland_training %>%\n",
    "                    group_by(diag) %>%\n",
    "                    summarize(min_age = min(age), max_age = max(age), mean_age = mean(age),\n",
    "                              min_chol = min(chol), max_chol = max(chol), mean_chol = mean(chol), \n",
    "                              min_thalach = min(thalach), max_thalach = max(thalach), mean_thalach = mean(thalach),\n",
    "                              n_of_patients = n())\n",
    "\n",
    "cleveland_summary"
   ]
  },
  {
   "cell_type": "markdown",
   "id": "b3cc5978-fff8-429d-88b4-f522a7046e5d",
   "metadata": {},
   "source": [
    "Plotting"
   ]
  },
  {
   "cell_type": "code",
   "execution_count": null,
   "id": "bcd26226-08ed-4fd0-aa67-9d82292898e8",
   "metadata": {},
   "outputs": [],
   "source": [
    "\n",
    "plot1 <- ggplot(cleveland_training, aes(x = thalach, y = chol, color = diag)) +\n",
    "                 geom_point() +\n",
    "                 labs(x = \"max heart rate reached\", y = \"cholesterol (mg/dl)\", color = \"diagnosis\") +\n",
    "                 scale_color_brewer(palette = \"Set1\") +\n",
    "                 theme(text = element_text(size = 20))\n",
    "\n",
    "plot2 <- ggplot(cleveland_training, aes(x = age, y = chol, color = diag)) +\n",
    "                 geom_point() +\n",
    "                 labs(x = \"age (years)\", y = \"cholesterol (mg/dl)\", color = \"diagnosis\") +\n",
    "                 scale_color_brewer(palette = \"Set1\") +\n",
    "                 theme(text = element_text(size = 20))\n",
    "\n",
    "plot3 <- ggplot(cleveland_training, aes(x = age, y = thalach, color = diag)) +\n",
    "                 geom_point() +\n",
    "                 labs(x = \"age (years)\", y = \"max heart rate reached\", color = \"diagnosis\") +\n",
    "                 scale_color_brewer(palette = \"Set1\") +\n",
    "                 theme(text = element_text(size = 20))\n",
    "\n",
    "plot1\n",
    "plot2\n",
    "plot3"
   ]
  },
  {
   "cell_type": "code",
   "execution_count": null,
   "id": "68365f86-83c4-4255-9505-a00cdfe76a61",
   "metadata": {},
   "outputs": [],
   "source": []
  }
 ],
 "metadata": {
  "kernelspec": {
   "display_name": "R",
   "language": "R",
   "name": "ir"
  },
  "language_info": {
   "codemirror_mode": "r",
   "file_extension": ".r",
   "mimetype": "text/x-r-source",
   "name": "R",
   "pygments_lexer": "r",
   "version": "4.3.1"
  }
 },
 "nbformat": 4,
 "nbformat_minor": 5
}
